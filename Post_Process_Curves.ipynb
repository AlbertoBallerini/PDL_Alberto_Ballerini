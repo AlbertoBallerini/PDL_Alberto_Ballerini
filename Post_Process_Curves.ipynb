{
 "cells": [
  {
   "cell_type": "markdown",
   "id": "1ef5eca8",
   "metadata": {},
   "source": [
    "# Post-Process of Experimental In-cylinder Pressure Curves to obtain Heat Release Rate Curves\n",
    "\n",
    "### Author: Alberto Ballerini, STEN Ph.D. student, 38th cycle\n",
    "\n",
    "## Objective of this project\n",
    "\n",
    "This code aims to provide an estimation of the Heat Release Rate ($\\textit{HRR}$ measured in [J/CAD]) curve from experimental in-cylinder pressure data. The $\\textit{HRR}$ measures the power released by the combustion of the fuel, and it can be used to study how the combustion process is evolving over time. \n",
    "This quantity is computed as:\n",
    "\n",
    "$$\\textit{HRR} = \\frac{dm_\\textit{f,b}}{d\\theta}$$\n",
    "\n",
    "where $m_\\textit{f,b}$ is the burned mass of fuel and $\\theta$ is the crank angle degree measured in [CAD].\n",
    "\n",
    "Usually, from experimental data, it is only possible to derive the so-called Apparent Heat Release Rate ($\\textit{AHRR}$  measured in [J/CAD]) curve, with the formula:\n",
    "\n",
    "$$\\textit{AHRR} = \\frac{\\gamma}{\\gamma - 1}\\cdot p \\frac{dV}{d\\theta} + \\frac{1}{\\gamma - 1} \\cdot V\\frac{dp}{d\\theta}$$\n",
    "\n",
    "where:\n",
    "- $p$ is the in-cylinder pressure in [Pa];\n",
    "- $V$ is the cylinder volume in [m$^3$];\n",
    "- $\\gamma$ is the ratio of the constant-pressure specific heat and constant-volume specific heat $\\gamma = \\frac{c_p}{c_v}$;\n",
    "\n",
    "However, the value of $\\textit{AHRR}$ includes the heat transfer between the mixture contained in the combustion chamber and its walls. \n",
    "With the knowledge of the heat exchanged with the walls $\\frac{dQ_\\textit{walls}}{d\\theta}$ it is possible to derive the $\\textit{HRR}$ from the $\\textit{AHRR}$ with the following formula:\n",
    "\n",
    "$$\\textit{HRR} =\\textit{AHRR} + \\frac{dQ_\\textit{walls}}{d\\theta}$$\n",
    "\n",
    "Indeed, in order to estimate correctly the $\\textit{HRR}$ from experimental values it is necessary to evaluate the istantaneous heat transfer rate with a specific submodel. In this case the model proposed by Woschni will be used.\n",
    "\n",
    "Another typical flaw of the $\\textit{AHRR}$ formulation presented before is the utilization of a constant $\\gamma$. This is done as no experimental informations about the composition and temperature of the charge inside the cylinder are usually available. For this reason, in first approximation, the $\\textit{AHRR}$ curve derived is not very representative of the combustion process that is actually happening.\n",
    "\n",
    "To account for these issues, this code provides an estimation of both the heat transfer and the charge composition to have a better evaluation of the $\\textit{HRR}$ through an iterative process. The iterative process stops when the cumulated value of the $\\textit{HRR}$ (called Heat Release $\\textit{HR}$ measured in [J]) matches the experimental value, as it will be later defined."
   ]
  },
  {
   "cell_type": "markdown",
   "id": "bd757d0c",
   "metadata": {},
   "source": [
    "## Code documentation\n",
    "\n",
    "### Import of the necessary libraries\n",
    "\n",
    "For this code the following libraries will be used:\n",
    "- __*numpy*__: for array operations;\n",
    "- __*math*__: to use accurate values of $\\pi$;\n",
    "- __*matplotlib*__: for data visualization."
   ]
  },
  {
   "cell_type": "code",
   "execution_count": 1,
   "id": "d3f6f69a",
   "metadata": {},
   "outputs": [],
   "source": [
    "# -*- coding: utf-8 -*-\n",
    "# import packages\n",
    "import numpy as np\n",
    "import math\n",
    "import matplotlib.pyplot as plt\n",
    "import os"
   ]
  },
  {
   "cell_type": "markdown",
   "id": "dd17b5d2",
   "metadata": {},
   "source": [
    "### Custom function definition\n",
    "\n",
    "#### Heat transfer coefficient $h$\n",
    "\n",
    "In order to obtain an estimation of the heat transfer, the heat transfer coefficient ($h$ measured in [W/m$^2$/K]) has to be computed. The model proposed by Woschni is used to provide this information. With this model, the heat transfer coefficient is evaluated as:\n",
    "\n",
    "$$ h = C_1\\cdot B^{0.2}\\cdot p^{0.8}\\cdot T^{-0.53}\\cdot u^{0.8}$$\n",
    "\n",
    "where:\n",
    "- $C_1$ is a calibration constant;\n",
    "- $B$ is the bore (diameter) of the cylinder in [m];\n",
    "- $p$ is the in-cylinder pressure in [bar];\n",
    "- $T$ is the in-cylinder temperature in [K];\n",
    "- $u$ is the flow speed defined as: $$u = C_2 \\cdot u_{p} + C_3 \\cdot \\bigg(\\frac{V T_0}{p_0 V_0}\\bigg) \\cdot (p - p_{\\textit{mot}})$$\n",
    "in which $C_2$ and $C_3$ are calibration constants, the variables with subscript \"0\" represents their value at Intake Valve Closing (IVC), $p_{\\textit{mot}}$ is the cylinder pressure in motored conditions. This last quantity is computed as: $p_{\\textit{mot}} = p_0 \\cdot\\big(\\frac{V_0}{V}\\big)^{C_4}$ and $C_4$ is a calibration constant.\n",
    "\n",
    "To estimate $h$, the function needs as inputs the actual conditions and IVC conditions with the value of $u_p$ and of the bore, as reported in the code hereafter. Moreover, the value of $C_3$ is also an input as it will be changed over the iterations."
   ]
  },
  {
   "cell_type": "code",
   "execution_count": 2,
   "id": "7bf64e92",
   "metadata": {},
   "outputs": [],
   "source": [
    "# FUNCTIONS\n",
    "# Define function to get woschnis's coefficients (heat transfer) [W/m^2/K]\n",
    "\n",
    "def get_woschni_coeff(P_act, T_act, V_act, P_ivc, T_ivc, V_ivc, u_avg, bore_, C3_):\n",
    "\n",
    "    P0_ = P_ivc/1000\n",
    "    T0_ = T_ivc\n",
    "    V0_ = V_ivc\n",
    "\n",
    "    P_ = P_act/1000\n",
    "    T_ = T_act\n",
    "    V_ = V_act\n",
    "\n",
    "    # set initial value\n",
    "    htc_ = 0\n",
    "\n",
    "    C1_ = 5.26\n",
    "    C2_ = 2.28\n",
    "    C4_ = 1.32\n",
    "\n",
    "    P_mot = P0_*(V0_/V_)**C4_\n",
    "    u_ = C2_*u_avg + C3_*(V_*T0_/(P0_*V0_))*(P_ - P_mot)\n",
    "    htc_ = C1_ * bore_**(-0.2)*P_**(0.8)*T_**(-0.53)*u_**(0.8)\n",
    "    return htc_"
   ]
  },
  {
   "cell_type": "markdown",
   "id": "82f4d6fc",
   "metadata": {},
   "source": [
    "#### Computation of the constant-pressure specific heat $c_p$\n",
    "\n",
    "In order to have an accurate estimation of the $\\gamma$ it is necessary to consider the dependance on both temperature and mixture composition on the constant-pressure and constant-volume specific heats ($c_p$ and $c_v$). For this reasons, a custom function is defined to compute the value of the molar $c_p$ with the Janaf model. With this formulation the molar $c_p$ is a function of temperature and composition:\n",
    "\n",
    "$$c_p = (a_0 + a_1 T + a_2 T^2 + a_3 T^3 +a_4 T^4) \\cdot R $$\n",
    "\n",
    "where:\n",
    "- $R$ is the universal gas constant in [J/mol/K];\n",
    "- The coefficients $a_j$ with $j = 0,\\dots, 4$ are function of the mixture compostion as they are computed as: \n",
    "$$a_j = \\sum_{i = 1, n} X_i \\cdot a_{i,j}$$\n",
    "in which $X_i$ is the molar composition and $a_{i,j}$ is the $j$-th Janaf coefficient of the $i$-th species in the mixture.\n",
    "It is important to note that there are actually two sets of Janaf coefficients, one valid for the 300-1000 [K] temperature range, while the other valid in the 1000-5000 [K] range. In fact, later in the code, two matrixes will be declared with the subscript \"1000\" and \"5000\" to identify the former and latter ranges respectively.\n",
    "\n",
    "Knowing the $c_p$ it is possible to compute the molar $c_v$ with Mayer's law:\n",
    "\n",
    "$$c_v = c_p - R$$\n",
    "\n",
    "From these values $\\gamma$ is derived as $\\gamma = \\frac{c_p}{c_v}$."
   ]
  },
  {
   "cell_type": "code",
   "execution_count": 3,
   "id": "3302af7b",
   "metadata": {},
   "outputs": [],
   "source": [
    "# Define function to get the constant-pressure specific heat\n",
    "def get_cp(T_, janaf_, comp_):\n",
    "\n",
    "    a_ = np.dot(janaf_, comp_)\n",
    "    cp_ = (a_[0] + a_[1]*T_ + a_[2]*T_**2 + a_[3]*T_**3 + a_[4]*T_**4)*8314.5\n",
    "    return cp_"
   ]
  },
  {
   "cell_type": "markdown",
   "id": "7c8e8118",
   "metadata": {},
   "source": [
    "#### Trapezoidal integration method and moving average filter\n",
    "\n",
    "These last two functions implemented are used to compute the value of the cumulated integral with the trapezoidal rule (function *trapez_integ*) and to apply a moving average filter (function *moving_average*).\n",
    "\n",
    "The function *trapez_integ* provides as output a vector in which the $i$-th value is the cumulated integral of the previous values of *Y_in* over the vector *X_*.\n",
    "\n",
    "The function *moving_average* takes as input the vector *a* and the integer *n* which represents the number of values over which the smoothing will be applied. The output vector *ret* will contain the averaged value over *n* values and will have *n - 1* elements less with respect to the input vector."
   ]
  },
  {
   "cell_type": "code",
   "execution_count": 4,
   "id": "89426650",
   "metadata": {},
   "outputs": [],
   "source": [
    "# Define function to compute integration with trapezoidal method\n",
    "\n",
    "def trapez_integ(X_, Y_in):\n",
    "\n",
    "    step = np.zeros(len(Y_in - 1))\n",
    "    step = X_[1:len(X_)] - X_[0:len(X_) - 1]\n",
    "    sum_ = 0\n",
    "    Y_out = np.zeros(len(Y_in))\n",
    "    for i in range(len(X_) - 1):\n",
    "        int_ = (Y_in[i + 1] + Y_in[i])/2*step[i]\n",
    "        sum_ = sum_ + int_\n",
    "        Y_out[i + 1] = sum_\n",
    "    return Y_out\n",
    "\n",
    "# Define method for moving average filter\n",
    "def moving_average(a, n):\n",
    "    ret = np.cumsum(a, dtype=float)\n",
    "    ret[n:] = ret[n:] - ret[:-n]\n",
    "    return ret[n - 1:] / n"
   ]
  },
  {
   "cell_type": "markdown",
   "id": "8b631ac4",
   "metadata": {},
   "source": [
    "### Data input for the program\n",
    "\n",
    "In order to run the script it is necessary to firstly introduce some inputs. In particular the values of Intake Valve Closing (IVC), Exhaust Valve Opening (EVO), Spark Advance (SA) and engine regime have to be set:"
   ]
  },
  {
   "cell_type": "code",
   "execution_count": 5,
   "id": "1de8e9c4",
   "metadata": {},
   "outputs": [],
   "source": [
    "# Initial preparation for the script\n",
    "# Data input to be changed accordingly to the simulated engine\n",
    "# Intake Valve Closing [CAD]\n",
    "IVC = -149\n",
    "# Exhaust Valve Opening [CAD]\n",
    "EVO = 140\n",
    "# Spark advance (experimental)\n",
    "SA = -24\n",
    "# Engine Regime [RPM]\n",
    "rpm_ = 1000\n",
    "rps_ = rpm_/60\n",
    "speed_ = rps_*360"
   ]
  },
  {
   "cell_type": "markdown",
   "id": "b1eef016",
   "metadata": {},
   "source": [
    "Moreover, the geometrical aspects of the experimental (and simulated) engine have to be specified:"
   ]
  },
  {
   "cell_type": "code",
   "execution_count": 6,
   "id": "b109826d",
   "metadata": {},
   "outputs": [],
   "source": [
    "# Geometry of the engine\n",
    "bore_ = 0.085           # diameter of the cylinder\n",
    "stroke_ = 0.088         # lenght of the stroke\n",
    "rod_length_ = 0.141     # length of the connectig rod\n",
    "desaxis_ = 0            # disalignment bewteen piston pin and crank\n",
    "CR_ = 16.40             # compression ratio\n",
    "\n",
    "u_avg = 2*rps_*stroke_  # mean piston speed\n",
    "\n",
    "# Surfaces of the combustion chamber\n",
    "surf_incr = 1.1                         # coefficient to account for increase surface\n",
    "surf_head = math.pi*bore_**2/4          # head surface\n",
    "surf_pist = surf_head * surf_incr       # piston top surface\n",
    "\n",
    "V_disp = stroke_*bore_**2/4*math.pi     # displaced volume"
   ]
  },
  {
   "cell_type": "markdown",
   "id": "54e748bb",
   "metadata": {},
   "source": [
    "To estimate the heat transfer between the mixture and the combustion chamber walls the temperature of each surface has to be set."
   ]
  },
  {
   "cell_type": "code",
   "execution_count": 7,
   "id": "f22272d8",
   "metadata": {},
   "outputs": [],
   "source": [
    "# Temperature of the head, liner and piston top\n",
    "T_walls = [450, 450, 500]"
   ]
  },
  {
   "cell_type": "markdown",
   "id": "df925446",
   "metadata": {},
   "source": [
    "Additional informations requested are the values of the total mass ($m$ in [kg]) and fuel mass ($m_f$ in [kg]) trapped inside the cylinder at IVC. With them, a guessed value of combustion efficiency $\\eta_\\textit{comb}$ (i.e. how much of the injected fuel burns during combustion) is necessary. If this information is not available, the suggested value to use is 0.98.\n",
    "\n",
    "With $m$ and $m_f$ it is possible to derive the mass of fresh air as $m_a = m - m_f$."
   ]
  },
  {
   "cell_type": "code",
   "execution_count": 8,
   "id": "fb5038b9",
   "metadata": {},
   "outputs": [],
   "source": [
    "# Total mass at intake valve closing (air+fuel) [kg] (experimental)\n",
    "mass_ = 0.000420889\n",
    "# Mass of fuel injected [kg] (experimental)\n",
    "mf_ = 0.00005182\n",
    "ma_ = mass_ - mf_   # mass of air\n",
    "# Guessed combustion efficiency (if available)\n",
    "eff_comb = 0.932"
   ]
  },
  {
   "cell_type": "markdown",
   "id": "396cb82d",
   "metadata": {},
   "source": [
    "In this section of the code, the inputs regarding the chemical aspects of the mixture are specified. In particular the Lower Heating Value ($LHV$ in [kJ/kg]), the Molar Mass ($\\textit{MM}$ in [kg/kmol]), the Janaf coefficients and the atomic composition of the fuel have to be introduced."
   ]
  },
  {
   "cell_type": "code",
   "execution_count": 9,
   "id": "b71bb8f8",
   "metadata": {},
   "outputs": [],
   "source": [
    "# This script considers only the possibility of having the following species in this order\n",
    "# 1) N2\n",
    "# 2) O2\n",
    "# 3) CO2\n",
    "# 4) H2O\n",
    "# 5) \"fuel species\" that can be changed\n",
    "# Chemical properties of the mixture\n",
    "LHV_ = 18800  # Lower Heating Value [kJ/kg] \n",
    "Rmol_ = 8314.5 # Universal Gas Constant\n",
    "\n",
    "# Fuel specific properties that are needed in inputs\n",
    "# Janaf of the fuel: [a_0, a_1, a_2, a_3, a_4]\n",
    "janaf_1000_fuel = np.array([4.30178, -0.00477127, 2.19342e-05, -2.29856e-08, 8.28992e-12])\n",
    "janaf_5000_fuel = np.array([2.7171, 0.00556856, -1.76886e-06, 2.67417e-10, -1.52731e-14])\n",
    "\n",
    "# Molar mass of the fuel\n",
    "MM_fuel = 17.03056\n",
    "\n",
    "# Atomic composition of the fuel as:\n",
    "# [atoms of C, atoms of H, atoms of O, atoms of N]\n",
    "atoms_fuel = np.array([0, 3, 0, 1])"
   ]
  },
  {
   "cell_type": "markdown",
   "id": "d6f6f84a",
   "metadata": {},
   "source": [
    "Now it is possible to set the other chemical parameters for the four remaining species. These properties should not be changed. In this code fresh air is considered as a mixture composed by 79% $N_2$ and 21% $O_2$ on a molar basis."
   ]
  },
  {
   "cell_type": "code",
   "execution_count": 10,
   "id": "be708524",
   "metadata": {},
   "outputs": [],
   "source": [
    "# Molar Masses\n",
    "# N2, O2, CO2, H2O, fuel (set later)\n",
    "MM_ = np.array([28.013, 31.9988, 44.0100, 18.0153, MM_fuel])\n",
    "# Molar composition of the fresh air\n",
    "air_comp = np.array([0.79, 0.21, 0, 0, 0])\n",
    "# Compute molar mass of air\n",
    "MM_air = np.inner(MM_, air_comp)\n",
    "\n",
    "# All vectors are ordered in the same way and each property refers to the specie considered\n",
    "janaf_1000 = np.array([[0.37044177e+1, -0.14218753e-2, 0.28670392e-5, -0.12028885e-8, -0.13954677e-13],\n",
    "                       [0.37837135e+1, -0.30233634e-2, 0.99492751e-5, -\n",
    "                        0.98189101e-8, 0.33031825e-11],\n",
    "                       [0.24007797e+1, 0.87350957e-2, -0.66070878e-5,\n",
    "                        0.20021861e-8, 0.63274039e-15],\n",
    "                       [0.41677234e+1, -0.18114970e-2, 0.59471288e-5, -\n",
    "                        0.48692021e-8, 0.15291991e-11]])\n",
    "\n",
    "janaf_5000 = np.array([[0.28532899e+1, 0.16022128e-2, -0.62936893e-6, 0.11441022e-9, -0.78057465e-14],\n",
    "                       [0.36122139e+1, 0.74853166e-3, -0.19820647e-6,\n",
    "                        0.33749008e-10, -0.23907374e-14],\n",
    "                       [0.44608041e+1, 0.30981719e-2, -0.12392571e-5,\n",
    "                        0.22741325e-9, -0.15525954e-13],\n",
    "                       [0.26110472e+1, 0.31563130e-2, -0.92985438e-6,\n",
    "                        0.13331538e-9, -0.74689351e-14]])\n",
    "\n",
    "# Add Janaf of the fuel to Janaf matrix\n",
    "janaf_1000 = np.transpose(np.vstack([janaf_1000, janaf_1000_fuel]))\n",
    "janaf_5000 = np.transpose(np.vstack([janaf_5000, janaf_5000_fuel]))"
   ]
  },
  {
   "cell_type": "markdown",
   "id": "7bb537a5",
   "metadata": {},
   "source": [
    "Finally, it is possible to compute the stochiometric air-to-fuel ratio ($\\textit{AF}_\\textit{stoich}$) and the actual value of the equivalence ratio:\n",
    "\n",
    "$$\\phi =  \\frac{\\textit{AF}_\\textit{stoich}}{\\frac{m_a}{m_f}}$$ \n",
    "\n",
    "With them the value of heat released by the fuel ($Q_\\textit{comb}$ in [J]) is also estimated as:\n",
    "\n",
    "$$Q_\\textit{comb} = m_f \\cdot \\eta_\\textit{comb} \\cdot \\textit{LHV}$$"
   ]
  },
  {
   "cell_type": "code",
   "execution_count": 11,
   "id": "a16307c9",
   "metadata": {},
   "outputs": [],
   "source": [
    "# Compute stochiometric air/fuel ratio\n",
    "AF_stoich = (atoms_fuel[0] + atoms_fuel[1]/4 - atoms_fuel[2]/2) * \\\n",
    "    (MM_[1]+air_comp[0]/air_comp[1]*MM_[0])/MM_[4]\n",
    "# Equivalence ratio\n",
    "phi_ = AF_stoich/(ma_/mf_)\n",
    "\n",
    "# Compute released heat from combustion\n",
    "Q_comb = mf_*eff_comb*LHV_*1000"
   ]
  },
  {
   "cell_type": "markdown",
   "id": "72aa3c65",
   "metadata": {},
   "source": [
    "### Mixture composition\n",
    "\n",
    "Having defined all the necessary inputs, it is possible to compute the molar compositions of both the fresh and burnt mixtures ($\\overline{X}_\\textit{fresh}$ and $\\overline{X}_\\textit{burnt}$) and their molar mass as they will be later used to estimate the $\\gamma$. For the burnt composition, a perfect combustion of the fresh mixture on the value of $\\phi$ is considered. The only product of combustion considered from the fuel combustion are $N_2$, $CO_2$ and $H_2O$."
   ]
  },
  {
   "cell_type": "code",
   "execution_count": 12,
   "id": "66def8e3",
   "metadata": {},
   "outputs": [
    {
     "ename": "SyntaxError",
     "evalue": "unexpected character after line continuation character (1516253465.py, line 24)",
     "output_type": "error",
     "traceback": [
      "\u001b[1;36m  File \u001b[1;32m\"C:\\Users\\alber\\AppData\\Local\\Temp\\ipykernel_3036\\1516253465.py\"\u001b[1;36m, line \u001b[1;32m24\u001b[0m\n\u001b[1;33m    burnt_moles[0] = fresh_moles[0] + mol_comb_burnt * \\               # N2\u001b[0m\n\u001b[1;37m                                                        ^\u001b[0m\n\u001b[1;31mSyntaxError\u001b[0m\u001b[1;31m:\u001b[0m unexpected character after line continuation character\n"
     ]
    }
   ],
   "source": [
    "# Compute the composition of the ideally burned mixture\n",
    "mol_comb = mf_/MM_[4]\n",
    "fresh_moles = np.array([])\n",
    "fresh_moles = ma_/MM_air*air_comp\n",
    "fresh_moles[4] = mol_comb\n",
    "fresh_comp = fresh_moles/np.sum(fresh_moles)\n",
    "MM_fresh = np.inner(MM_, fresh_comp)\n",
    "# Initialize vectors\n",
    "burnt_comp = np.zeros(len(fresh_moles))\n",
    "burnt_moles = np.zeros(len(fresh_moles))\n",
    "# perfect combustion calculation\n",
    "if phi_ <= 1:  # lean combustion\n",
    "    burnt_moles[0] = fresh_moles[0] + mol_comb * \\\n",
    "        (atoms_fuel[3]/2)                                              # N2\n",
    "    burnt_moles[1] = fresh_moles[1] - mol_comb * \\\n",
    "        (atoms_fuel[0] + atoms_fuel[1]/4 - atoms_fuel[2]/2)            # O2\n",
    "    burnt_moles[2] = fresh_moles[2] + mol_comb * \\\n",
    "        (atoms_fuel[0])                                                # CO2\n",
    "    burnt_moles[3] = fresh_moles[3] + mol_comb*(atoms_fuel[1]/2)       # H2O\n",
    "    burnt_moles[4] = fresh_moles[4] - mol_comb                         # Fuel\n",
    "else:          # rich or stochiometric combustion\n",
    "    mol_comb_burnt = fresh_moles[1]/(atoms_fuel[0] + atoms_fuel[1] /\n",
    "                                     4 - atoms_fuel[2]/2)              # moles of fuel that can burn\n",
    "    burnt_moles[0] = fresh_moles[0] + mol_comb_burnt * \\               # N2\n",
    "        (atoms_fuel[3]/2)\n",
    "    burnt_moles[1] = 0                                                 # O2\n",
    "    burnt_moles[2] = fresh_moles[2] + mol_comb_burnt*(atoms_fuel[0])   # CO2\n",
    "    burnt_moles[3] = fresh_moles[3] + mol_comb_burnt*(atoms_fuel[1]/2) # H2O\n",
    "    burnt_moles[4] = fresh_moles[4] - mol_comb_burnt                   # fuel\n",
    "\n",
    "# Compute composition and molar mass\n",
    "burnt_comp = burnt_moles/np.sum(burnt_moles)\n",
    "MM_burnt = np.inner(MM_, burnt_comp)"
   ]
  },
  {
   "cell_type": "markdown",
   "id": "e0bab126",
   "metadata": {},
   "source": [
    "### Iterative process to evaluate HRR\n",
    "\n",
    "As stated before, the objective of this code is to provide an estimation of the $\\textit{HRR}$. For this reason, it is necessary that the Heat Release computed matches the experimental heat released by combustion $Q_\\textit{comb}$. To obtain this matching, an iterative process that changes the value of the calibration constant $C_3$ is performed. Moreover, at each iteration, the composition, $\\gamma$ of the mixture and the heat transfer with the walls are estimated with the data derived from the previous iteration.\n",
    "\n",
    "#### Computation of the initial guess\n",
    "\n",
    "Firstly, the experimental data are read from the \"*Experimental.csv*\" file. This file has as first column the crank angles and as second column the pressure in [bar], separated by a comma. The values of crank angle and pressure are then stored in two vectors. If necessary, it is possible to apply a smoothing function to the pressure vector."
   ]
  },
  {
   "cell_type": "code",
   "execution_count": null,
   "id": "756f4fa6",
   "metadata": {},
   "outputs": [],
   "source": [
    "# Read experimental data from csv with first column angles and second column pressure in [Bar]\n",
    "exp_data = np.loadtxt(\"Experimental.csv\", delimiter=\",\")\n",
    "angle_vect = exp_data[:, 0]\n",
    "pressure_vect = exp_data[:, 1]*1e5\n",
    "\n",
    "# Apply smoothing (set 1 to avoid smoothing)\n",
    "pressure_vect = moving_average(pressure_vect, 1)"
   ]
  },
  {
   "cell_type": "markdown",
   "id": "df2c3bf2",
   "metadata": {},
   "source": [
    "The volume of the cylinder is a function of the crank angle the geometrical characteristics of the cylinder itsef."
   ]
  },
  {
   "cell_type": "code",
   "execution_count": null,
   "id": "dc46739f",
   "metadata": {},
   "outputs": [],
   "source": [
    "# Compute volume and surface vectors as function of the crank angle\n",
    "volume_vect = np.array([])\n",
    "stroke_vect = ((((2*rod_length_/stroke_ + 1)**2 - (2*desaxis_/stroke_)**2)**0.5 - np.cos(angle_vect/180*math.pi)\n",
    "                - ((2*rod_length_/stroke_) ** 2 - ((2*desaxis_/stroke_ - np.sin(angle_vect/180*math.pi))**2))**0.5)/2\n",
    "               + 1/(CR_ - 1))*stroke_\n",
    "volume_vect = stroke_vect*bore_**2*math.pi/4\n",
    "surf_liner_vect = stroke_vect*math.pi*bore_"
   ]
  },
  {
   "cell_type": "markdown",
   "id": "76e4d8ea",
   "metadata": {},
   "source": [
    "Having defined the pressure and angle vectors, it is appropriate to filter the data in order to reduce the possible numerical oscillations in post process. Usually, the outputs of experimental pressure are given every 0.1 crank angle degree. For this reason, a filtering step of 10 is set to obtain the value of pressure at every integer angle.\n",
    "\n",
    "The pressure, volume and surface vectors are filtered in the same manner and it is now possible to compute the derivative of pressure and cylinder volume."
   ]
  },
  {
   "cell_type": "code",
   "execution_count": null,
   "id": "15c50a45",
   "metadata": {},
   "outputs": [],
   "source": [
    "# Filter experimental data (to reduce oscillations in post)\n",
    "step_filt = 10\n",
    "filter_vect = np.arange(0, np.size(pressure_vect), step_filt)\n",
    "\n",
    "# Limit between IVC and EVO\n",
    "angle_filt = angle_vect[filter_vect]\n",
    "ind_IVC = np.where(angle_filt >= IVC)[0][0]\n",
    "ind_SA = np.where(angle_filt >= SA)[0][0]\n",
    "ind_EVO = np.where(angle_filt >= EVO)[0][0]\n",
    "\n",
    "# filter index\n",
    "ind = [ind_IVC, ind_EVO]\n",
    "\n",
    "angle_filt = angle_filt[ind[0]:ind[1]]\n",
    "filter_vect = filter_vect[ind[0]:ind[1]]\n",
    "\n",
    "# Prepare filtered vectors\n",
    "pressure_filt = pressure_vect[filter_vect]\n",
    "volume_filt = volume_vect[filter_vect]\n",
    "surf_liner_filt = surf_liner_vect[filter_vect]\n",
    "\n",
    "# Compute pressure derivative with forward, backward and centered difference schemes\n",
    "dP = np.array([])\n",
    "dP_fg = pressure_filt[1:len(pressure_filt)] - pressure_filt[0:len(pressure_filt)-1]\n",
    "dP_fw = pressure_filt[2:len(pressure_filt)-1] - pressure_filt[1:len(pressure_filt)-2]\n",
    "dP_bw = pressure_filt[1:len(pressure_filt)-2] - pressure_filt[2:len(pressure_filt)-1]\n",
    "dP = (dP_fw - dP_bw)/2\n",
    "dP = np.append(dP_fg[0], dP)\n",
    "dP = np.append(dP, dP_fg[-1])\n",
    "\n",
    "# Compute angle derivative\n",
    "dAngle = np.array([])\n",
    "dAngle = angle_filt[1:len(angle_filt)] - angle_filt[0:len(angle_filt)-1]\n",
    "\n",
    "# Compute volume derivative\n",
    "dVolume = np.array([])\n",
    "dVolume = volume_filt[1:len(volume_filt)] - volume_filt[0:len(volume_filt)-1]"
   ]
  },
  {
   "cell_type": "markdown",
   "id": "3bd44624",
   "metadata": {},
   "source": [
    "In order to start the iterative process, a first guess of the $\\textit{AHRR}$ with a constant $\\gamma$ is computed."
   ]
  },
  {
   "cell_type": "code",
   "execution_count": null,
   "id": "ee98a237",
   "metadata": {},
   "outputs": [],
   "source": [
    "# Start of the iterative process to compute the Heat Release Rate\n",
    "# First guess of AHRR with a constant gamma (cp/cv)\n",
    "AHRR = np.array([])\n",
    "gamma_cost = 1.30\n",
    "\n",
    "len_vect = len(pressure_filt)\n",
    "AHRR = gamma_cost/(gamma_cost-1)*pressure_filt[0:len_vect-1] * \\\n",
    "    dVolume/dAngle + 1/(gamma_cost-1)*volume_filt[0:len_vect-1]*dP/dAngle\n",
    "\n",
    "AHRR = np.append(AHRR, 0)"
   ]
  },
  {
   "cell_type": "markdown",
   "id": "d95b7993",
   "metadata": {},
   "source": [
    "Having this vector, it is possible to compute the cumulated value of $\\textit{AHRR}$, called Apparent Heat Release ($\\textit{AHR}$ measured in [J]) as:\n",
    "\n",
    "$$ \\textit{AHR} = \\int_\\textit{IVC}^\\textit{EVO} \\textit{AHRR} \\ d\\theta$$\n",
    "\n",
    "with the function *trapez_integ*. Then the minimum value of $\\textit{AHR}$ is summed to $\\textit{AHR}$ to obtain a vector with non-negative values.\n",
    "\n",
    "After this operation, the Start Of Combustion (SOC) and End Of Combustion (EOC) angles are identified. The SOC is set to be equal to the SA, while the EOC is identified as the angle at which $\\textit{AHR}$ is positive and the value of $\\textit{AHRR}$ at the same angle is negative. This angle is used as EOC with the hypothesis that combustion has ended as the value of $\\textit{AHRR}$ is equal to the heat exchanged with the walls, which is negative because the temperature of the burned charge is greater than the one of the walls."
   ]
  },
  {
   "cell_type": "code",
   "execution_count": null,
   "id": "b5f49936",
   "metadata": {},
   "outputs": [],
   "source": [
    "# Compute cumulated value of AHRR and shift to have non-negative values\n",
    "AHR = trapez_integ(angle_filt, AHRR)\n",
    "AHR = AHR + abs(np.min(AHR))\n",
    "\n",
    "# Identify Start Of Combustion (SOC) and End Of Combustion (EOC)\n",
    "# SOC is set to be the Spark Advance (SA)\n",
    "SOC = SA\n",
    "ind_SOC = np.where(angle_filt >= SOC)[0][0]\n",
    "# EOC is the angle at which AHR is positive and the value of AHRR at same angle is negative\n",
    "EOC = angle_filt[np.where((AHR > 0) & (AHRR < 0) & (angle_filt > 0))][0]\n",
    "ind_EOC = np.where(angle_filt == EOC)[0][0]"
   ]
  },
  {
   "cell_type": "markdown",
   "id": "998634e0",
   "metadata": {},
   "source": [
    "To compute a first estimation of the heat exchanged, and so the $\\textit{HRR}$, the temperature of the mixture and the heat transfer coefficient $h$ have to be evaluated at each crank angle. In order to do so, the instantaneous composition of the charge is computed as a function of the burned mass fraction $x_b$. The value of $x_b$ at each crank angle can be estimated from the vector $\\overline{\\textit{AHR}}$ by normalizing it and multiplying it by $\\eta_\\textit{comb}$. With this operation, the vector $\\overline{x}_b$ is obtained and can be used to evaluate the mixture composition."
   ]
  },
  {
   "cell_type": "code",
   "execution_count": null,
   "id": "0a437ad4",
   "metadata": {},
   "outputs": [],
   "source": [
    "# First guess of Xb (burned mass fraction)\n",
    "HR_fg = AHR\n",
    "HR_fg[np.where(angle_filt < SOC)] = 0               # before combustion starts HRR is zero\n",
    "HR_fg[np.where(angle_filt > EOC)] = AHR[ind_EOC]    # after EOC the value is fixed\n",
    "\n",
    "# Compute the burned mass fraction by normalizing AHR\n",
    "Xb_fg = HR_fg/(np.max(HR_fg) - np.min(HR_fg))*eff_comb\n",
    "\n",
    "# Compute istantaneous composition for each crank angle from burned mass fraction\n",
    "# Define vectors\n",
    "ist_moles = np.zeros((len(angle_filt), len(fresh_moles)))\n",
    "ist_comp = np.zeros((len(angle_filt), len(fresh_moles)))\n",
    "MM_ist = np.zeros(len(angle_filt))\n",
    "R_ist = np.zeros(len(angle_filt))"
   ]
  },
  {
   "cell_type": "markdown",
   "id": "c58a92b3",
   "metadata": {},
   "source": [
    "Having the value of $\\overline{x}_b$, it is possible to compute the molar composition of the charge. Firstly the moles of each component are evaluated:\n",
    "\n",
    "$$ \\overline{N} = m \\cdot \\big((1 - x_b) \\cdot \\overline{X}_\\textit{fresh} / \\textit{MM}_\\textit{fresh} + x_b \\cdot \\overline{X}_\\textit{burnt}/ \\textit{MM}_\\textit{fresh} \\big)$$\n",
    "\n",
    "where $\\overline{X}_\\textit{fresh}$ and $\\overline{X}_\\textit{burnt}$ are the vectors containing the molar composition of the \"fresh\" and \"burnt\" zones that compose the overall mixture.\n",
    "Then, the molar composition at each crank angle degree is derived:\n",
    "\n",
    "$$ \\overline{X} = \\frac{\\overline{N}}{\\sum_{i=1}^5 N_i}$$ \n",
    "\n",
    "and with it the molar mass and massic gas constant $R^*$:\n",
    "\n",
    "$$ \\textit{MM} = \\sum_{i=1}^5 X_i \\cdot \\textit{MM}_i  \\\\ R^* = \\frac{R}{MM}$$\n",
    "\n",
    "With this information, the temperature is computed with the ideal gas law:\n",
    "\n",
    "$$T = \\frac{p \\cdot V}{m R^*}$$\n",
    "\n",
    "The value of $p, V, m$ and $R^*$ are taken at the same angle and the output of this operation is another vector containing the temperature values. Moreover, the conditions at IVC are identified and stored in specific variables as they will be needed later."
   ]
  },
  {
   "cell_type": "code",
   "execution_count": null,
   "id": "7525c8ff",
   "metadata": {},
   "outputs": [],
   "source": [
    "# Compute the molar composition at each angle\n",
    "for i in range(len(angle_filt)):\n",
    "    ist_moles[i, :] = mass_*((1 - Xb_fg[i])*fresh_comp/MM_fresh + Xb_fg[i]*burnt_comp/MM_burnt)\n",
    "    ist_comp[i, :] = ist_moles[i, :]/np.sum(ist_moles[i, :])    # Composition\n",
    "    MM_ist[i] = np.inner(MM_, ist_comp[i, :])                   # Molar mass\n",
    "# Compute the massic gas constant\n",
    "R_ist = Rmol_/MM_ist\n",
    "# Compute the in-cylinder temperature at each step with the new composition (with Ideal gas law)\n",
    "temperature_filt = np.zeros(len(angle_filt))\n",
    "temperature_filt = pressure_filt*volume_filt/mass_/R_ist\n",
    "\n",
    "# Get values of P, V, R* and T at Intake Valve Closing\n",
    "P_IVC = pressure_vect[ind_IVC]\n",
    "V_IVC = volume_vect[ind_IVC]\n",
    "R_IVC = Rmol_/MM_fresh\n",
    "T_IVC = P_IVC * V_IVC / (mass_*R_IVC)"
   ]
  },
  {
   "cell_type": "markdown",
   "id": "11e5d483",
   "metadata": {},
   "source": [
    "Finally, it is possible to estimate the heat transfer coefficient $h$ and the heat exchanged with the combustion chamber's surfaces. Firstly, the vector containing the value of the tuning constant $C_3$ has to be populated. This vector is set equal to $0$ until SOC, and after it a fixed value is used. This value which will be changed over the iterations to reach convergence with the experimental heat released by combustion."
   ]
  },
  {
   "cell_type": "code",
   "execution_count": null,
   "id": "2d2cd8b3",
   "metadata": {},
   "outputs": [],
   "source": [
    "# Value of C3 (in Woschni's model) for compression\n",
    "C3_comp = 0\n",
    "# C3_comb is the value that will be changed over the iterations\n",
    "C3_comb = 3.24e-3\n",
    "\n",
    "# Initialize vectors\n",
    "C3_filt = np.zeros(len(angle_filt))\n",
    "C3_filt[np.where(HR_fg == 0)] = C3_comp\n",
    "C3_filt[np.where(HR_fg > 0)] = C3_comb"
   ]
  },
  {
   "cell_type": "markdown",
   "id": "7d197b39",
   "metadata": {},
   "source": [
    "Having defined the $C_3$ vector, $h$ is evaluated at each angle with the *get_woschni_coeff* function. \n",
    "The, the heat transfer with the walls can be computed as:\n",
    "\n",
    "$$ \\frac{dQ_\\textit{walls}}{d\\theta} = h \\cdot (A_\\textit{head}(T - T_\\textit{head}) + A_\\textit{top}(T - T_\\textit{top}) + A_\\textit{liner}(T - T_\\textit{liner})) $$\n",
    "\n",
    "where $A_\\textit{head}, A_\\textit{top}$ and $A_\\textit{liner}$ are the surface of each wall in the combustion chamber measured in [m$^2$] and derived from the geometrical inputs.\n",
    "\n",
    "By adding $\\frac{dQ_\\textit{walls}}{d\\theta}$ to $\\textit{AHRR}$ the vector $\\textit{HRR}$ is obtained. This is then processed to be consistent with the physical meaning of the $\\textit{HRR}$. For this reason, the values before SA are set to 0 and the actual SOC is defined as the first angle after which the following seven values of $\\textit{HRR}$ are positive (i.e. the charge is burning). Instead, the EOC is identified as the first angle after SOC at which the value of $\\textit{HRR}$ is negative. The values after EOC are also set to 0 as no more fuel is considered to be able to burn.\n",
    "\n",
    "Finally, by using the *trapez_integ* function, the vector $\\textit{HR}$ is obtained and with it the first estimation of the target error ($\\textit{err}$ in [\\%]) defined as:\n",
    "\n",
    "$$ \\textit{err} = \\frac{\\textit{HR}(end) - Q_\\textit{comb}}{Q_\\textit{comb}} \\cdot 100 $$\n",
    "\n",
    "where $\\textit{HR}(end)$ is the last value of the $\\textit{HR}$ vector, and its physical meaning is the estimation of the heat released by the fuel combustion."
   ]
  },
  {
   "cell_type": "code",
   "execution_count": null,
   "id": "d18b3ead",
   "metadata": {},
   "outputs": [],
   "source": [
    "dQ_filt = np.zeros(len(angle_filt))\n",
    "htc_filt = np.zeros(len(angle_filt))\n",
    "# Estimate heat transfer coefficient at each crank angle [W/m^2/K]\n",
    "htc_filt = np.array([get_woschni_coeff(pressure_filt[i], temperature_filt[i], volume_filt[i],\n",
    "                    P_IVC, T_IVC, V_IVC, u_avg, bore_, C3_filt[i]) for i in range(len(angle_filt))])\n",
    "htc_filt = htc_filt/speed_ # to pass from [w/m^2/K] to [J/CAD/m^2/K]\n",
    "# Compute heat transfer, sum of the various terms over the head, liner and piston top\n",
    "dQ_filt = np.array([htc_filt[i]*(surf_head*(temperature_filt[i]-T_walls[0])\n",
    "                    + surf_pist*(temperature_filt[i]-T_walls[2])\n",
    "                    + surf_liner_filt[i]*(temperature_filt[i] - T_walls[1]))\n",
    "                    for i in range(len(angle_filt))])\n",
    "\n",
    "# First guess of Heat Release Rate\n",
    "HRR = AHRR + dQ_filt\n",
    "HRR[angle_filt < SA] = 0\n",
    "Mask = -1*np.ones(len(HRR))\n",
    "Mask[HRR >= 0] = 1\n",
    "Mask[angle_filt < SA] = 0\n",
    "Mask_2 = np.array([np.min(Mask[i:i+7]) for i in range(len(Mask)-7)])\n",
    "Mask_2 = np.append(Mask_2, np.ones(7))\n",
    "# The actual start of combustion is identified as the first angle at which the first 7 values are positive\n",
    "ind_SOC = np.where(Mask_2 > 0)[0][0]\n",
    "HRR[0:ind_SOC] = 0\n",
    "ind_EOC = np.where(HRR < 0)[0][0]\n",
    "HRR[ind_EOC:] = 0\n",
    "# Cumulated value\n",
    "HR = trapez_integ(angle_filt, HRR)\n",
    "\n",
    "# The iteration over C3 are done to match the experimental value of heat released by the fuel,\n",
    "# which is computed as the mass of fuel*combustion efficiency*LHV\n",
    "err = (HR[-1] - Q_comb)/Q_comb*100"
   ]
  },
  {
   "cell_type": "markdown",
   "id": "ff1c6df8",
   "metadata": {},
   "source": [
    "#### Iterative loop\n",
    "\n",
    "After computing the initial guess, it is possible to start the iterative loop.\n",
    "As already said, it is necessary to provide an accurate estimation of the $\\gamma$ in order to obtain a meaningful result. For this reason the value of $\\gamma$ at each crank angle degree is computed by using the composition and temperature estimation obtained from the previous iteration. \n",
    "\n",
    "It is important to notice that the Janaf coefficients are chosen accordingly to the temperature validity range considered at each crank angle.\n",
    "\n",
    "With the values of $\\gamma$ it is possible to compute again the $\\textit{AHRR}$ vector and repeat the steps applied for the initial guess.\n",
    "\n",
    "After the new estimation of both $\\textit{HRR}$ and $\\textit{HR}$ the program prints to screen the iteration number and the value computed of the heat released by combustion. \n",
    "\n",
    "Then, the new error is evaluated and the value of the constant $C_{3,\\textit{comb}}$ in combustion is changed as follows:\n",
    "\n",
    "$$ C_{3,\\textit{comb}}^{n+1} = C_{3,\\textit{comb}}^{n}\\cdot(100 - \\textit{err}) \\cdot (1 - \\beta) + \\beta \\cdot C_{3,\\textit{comb}}^{n} $$\n",
    "\n",
    "where $n$ represents the $n$-th iteration and $\\beta$ is an under-relaxing factor.\n",
    "\n",
    "The code also prints the new coefficient used and the error at the end of the iteration."
   ]
  },
  {
   "cell_type": "code",
   "execution_count": null,
   "id": "7bcefd20",
   "metadata": {},
   "outputs": [],
   "source": [
    "# Start the iteration\n",
    "iteraz = 0\n",
    "\n",
    "while abs(err) > 0.1 and iteraz <= 1000:\n",
    "    # Get gamma at each time step for next iteration\n",
    "    cp_filt = np.zeros(len(angle_filt))\n",
    "    gamma_filt = np.zeros(len(angle_filt))\n",
    "    for i in range(len(angle_filt)):\n",
    "        janaf_temp = janaf_1000\n",
    "        if temperature_filt[i] > 1000:\n",
    "            janaf_temp = janaf_5000\n",
    "\n",
    "        cp_filt[i] = get_cp(temperature_filt[i], janaf_temp, ist_comp[i, :])\n",
    "        gamma_filt[i] = cp_filt[i]/(cp_filt[i] - Rmol_)\n",
    "\n",
    "    gamma = gamma_filt[0:len(gamma_filt) - 1]\n",
    "\n",
    "    # Compute new AHRR with variable gamma\n",
    "    AHRR = gamma/(gamma - 1)*pressure_filt[0:len_vect - 1] * \\\n",
    "        dVolume/dAngle + 1/(gamma - 1)*volume_filt[0:len_vect - 1]*dP/dAngle\n",
    "    AHRR = np.append(AHRR, 0)\n",
    "    AHR = trapez_integ(angle_filt, AHRR)\n",
    "    AHR = AHR + abs(np.min(AHR))\n",
    "\n",
    "    # Identify new SOC and EOC\n",
    "    SOC = SA\n",
    "    ind_SOC = np.where(angle_filt >= SOC)[0][0]\n",
    "    EOC = angle_filt[np.where((AHR > 0) & (AHRR < 0) & (angle_filt > 0))][0]\n",
    "    ind_EOC = np.where(angle_filt == EOC)[0][0]\n",
    "\n",
    "    # Guess for Xb\n",
    "    HR_fg = AHR\n",
    "    HR_fg[np.where(angle_filt < SOC)] = 0\n",
    "    HR_fg[np.where(angle_filt > EOC)] = AHR[ind_EOC]\n",
    "    Xb_fg = HR_fg/(np.max(HR_fg) - np.min(HR_fg))*eff_comb\n",
    "\n",
    "    # Compute new composition and properties\n",
    "    ist_moles = np.zeros((len(angle_filt), len(fresh_moles)))\n",
    "    ist_comp = np.zeros((len(angle_filt), len(fresh_moles)))\n",
    "    MM_ist = np.zeros(len(angle_filt))\n",
    "    R_ist = np.zeros(len(angle_filt))\n",
    "    for i in range(len(angle_filt)):\n",
    "        ist_moles[i, :] = mass_*((1-Xb_fg[i])*fresh_comp/MM_fresh + Xb_fg[i]*burnt_comp/MM_burnt)\n",
    "        ist_comp[i, :] = ist_moles[i, :]/np.sum(ist_moles[i, :])\n",
    "        MM_ist[i] = np.inner(MM_, ist_comp[i, :])\n",
    "    R_ist = Rmol_/MM_ist\n",
    "\n",
    "    # Evaluate temperature at each step\n",
    "    temperature_filt = np.zeros(len(angle_filt))\n",
    "    temperature_filt = pressure_filt*volume_filt/mass_/R_ist\n",
    "\n",
    "    # Evaluate heat transfer and heat exchanged\n",
    "    C3_comb_old = C3_comb\n",
    "    C3_filt = np.zeros(len(angle_filt))\n",
    "    C3_filt[np.where(HR_fg == 0)] = C3_comp\n",
    "    C3_filt[np.where(HR_fg > 0)] = C3_comb\n",
    "\n",
    "    dQ_filt = np.zeros(len(angle_filt))\n",
    "    htc_filt = np.zeros(len(angle_filt))\n",
    "\n",
    "    # Compute heat transfer coefficient [W/m^2/K]\n",
    "    htc_filt = np.array([get_woschni_coeff(pressure_filt[i], temperature_filt[i], volume_filt[i],\n",
    "                        P_IVC, T_IVC, V_IVC, u_avg, bore_, C3_filt[i]) for i in range(len(angle_filt))])\n",
    "\n",
    "    htc_filt = htc_filt/speed_\n",
    "    dQ_filt = np.array([htc_filt[i]*(surf_head*(temperature_filt[i]-T_walls[0])\n",
    "                       + surf_pist*(temperature_filt[i]-T_walls[2])\n",
    "                       + surf_liner_filt[i]*(temperature_filt[i] - T_walls[1]))\n",
    "        for i in range(len(angle_filt))])\n",
    "\n",
    "    # compute HRR\n",
    "    HRR = AHRR + dQ_filt\n",
    "    AHR = trapez_integ(angle_filt, AHRR)\n",
    "\n",
    "    # HRR before SA is null\n",
    "    HRR[angle_filt < SA] = 0\n",
    "    Mask = -1*np.ones(len(HRR))\n",
    "    Mask[HRR >= 0] = 1\n",
    "    Mask[angle_filt < SA] = 0\n",
    "    Mask_2 = np.array([np.min(Mask[i:i+7]) for i in range(len(Mask)-7)])\n",
    "    Mask_2 = np.append(Mask_2, np.ones(7))\n",
    "    # The actual start of combustion is identified as the first angle at which the first 7 values are positive\n",
    "    ind_SOC = np.where(Mask_2 > 0)[0][0]\n",
    "    HRR[0:ind_SOC] = 0\n",
    "    # print(HRR)\n",
    "    ind_EOC = np.where(HRR < 0)[0][0]\n",
    "    HRR[ind_EOC:] = 0\n",
    "    HR = trapez_integ(angle_filt, HRR)\n",
    "    Xb = HR/np.max(HR)*eff_comb\n",
    "   \n",
    "    # Print to screen the iterations\n",
    "    print(\"-------------------------\")\n",
    "    print(\"Iteration n° : \", iteraz)\n",
    "    print(\"Heat released by combustion : %8.2f\" % HR[-1])\n",
    "    err = (HR[-1] - Q_comb)/Q_comb*100\n",
    "    beta = 0.9\n",
    "    # Compute new value of C3\n",
    "    C3_comb = (C3_comb_old * (100 - err)/100*(1 - beta) + beta*C3_comb_old)\n",
    "    print(\"New coefficient is : %8.5f\" % C3_comb)\n",
    "    print(\"Error : %8.5f\" % err)\n",
    "    # Increase iteration counter\n",
    "    iteraz = iteraz + 1"
   ]
  },
  {
   "cell_type": "markdown",
   "id": "91719248",
   "metadata": {},
   "source": [
    "### Final results\n",
    "\n",
    "After the iterative code has reached convergence, or the number of iterations exceed the maximum value, the obtained results are plotted against the values obtained from the simulations.\n",
    "\n",
    "The simulated data is read from two comma separated values files that have to be present in the folder where the program is saved (otherwise the path has to be changed). From the \"*burntMass.csv*\" file the $\\textit{HRR}$ computed by the simulations is extracted, while from \"*cylPres.csv*\" the simulated in-cylinder pressure is obtained."
   ]
  },
  {
   "cell_type": "code",
   "execution_count": null,
   "id": "25606e41",
   "metadata": {},
   "outputs": [],
   "source": [
    "# %% Read data from simulations\n",
    "burntMass = np.loadtxt('./burntMass.csv', delimiter=\",\", skiprows=2)\n",
    "cylPress = np.loadtxt('./cylPres.csv', delimiter=\",\", skiprows=2)"
   ]
  },
  {
   "cell_type": "markdown",
   "id": "588cd8cf",
   "metadata": {},
   "source": [
    "Two graphs are plotted, one for the in-cylinder pressure and one for the $\\textit{HRR}$. In both figures, the experimental curve is represented in a dashed black line and the simulated one in red continuous one."
   ]
  },
  {
   "cell_type": "code",
   "execution_count": null,
   "id": "5d3dbae7",
   "metadata": {},
   "outputs": [],
   "source": [
    "# %% Plot data with matplotlib and save in the folder\n",
    "\n",
    "# Define labels and limits for plots\n",
    "Lab_cad = \"Angle [CAD]\"\n",
    "titleSize = 15\n",
    "LabSize = 13\n",
    "\n",
    "# Heat Release Rate curve\n",
    "plt.figure(1)\n",
    "plt.title(\"HRR\", fontsize=titleSize)\n",
    "plt.plot(angle_filt, HRR, label=\"Exp.\", color=\"k\", ls='--')\n",
    "plt.plot(burntMass[:, 0], burntMass[:, 5], label=\"Sim.\",  color=\"r\", ls='-')\n",
    "plt.axvline(x=0, color='grey', alpha=0.5)\n",
    "plt.xlabel(Lab_cad, fontsize=LabSize)\n",
    "plt.ylabel(\"Heat Release Rate [J/CAD]\", fontsize=LabSize)\n",
    "plt.xlim([IVC, EVO])\n",
    "plt.legend()\n",
    "plt.savefig(\"./HRR.png\", format=\"png\", dpi=300)\n",
    "\n",
    "# Pressure curve\n",
    "plt.figure(2)\n",
    "plt.title(\"In-cylinder Pressure\")\n",
    "plt.plot(angle_filt, pressure_filt/1e5, color=\"k\",ls='--', label=\"Exp.\")\n",
    "plt.plot(cylPress[:, 0]-360, cylPress[:, 2],\n",
    "         label=\"Sim.\", color=\"r\", ls='-')\n",
    "plt.axvline(x=0, color='grey', alpha=0.5)\n",
    "plt.xlabel(Lab_cad, fontsize=LabSize)\n",
    "plt.ylabel(\"Pressure [bar]\", fontsize=LabSize)\n",
    "plt.xlim([IVC, EVO])\n",
    "plt.legend()\n",
    "plt.savefig(\"./pressure.png\", format=\"png\", dpi=300)"
   ]
  },
  {
   "cell_type": "markdown",
   "id": "eb2aed6a",
   "metadata": {},
   "source": [
    "Both figures have the same x-axis labels and ticks and a grey line at $\\theta$ = 0 is reported to identify the Top Dead Center (TDC).\n",
    "The figures are saved in the program folder as _\".png\"_ figures to be used in presentation or documents."
   ]
  }
 ],
 "metadata": {
  "kernelspec": {
   "display_name": "Python 3 (ipykernel)",
   "language": "python",
   "name": "python3"
  },
  "language_info": {
   "codemirror_mode": {
    "name": "ipython",
    "version": 3
   },
   "file_extension": ".py",
   "mimetype": "text/x-python",
   "name": "python",
   "nbconvert_exporter": "python",
   "pygments_lexer": "ipython3",
   "version": "3.9.13"
  }
 },
 "nbformat": 4,
 "nbformat_minor": 5
}
